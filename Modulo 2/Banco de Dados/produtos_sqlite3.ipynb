{
 "cells": [
  {
   "cell_type": "code",
   "execution_count": 29,
   "id": "581cabfe",
   "metadata": {},
   "outputs": [],
   "source": [
    "# importamos a biblioteca sqlite3, \n",
    "# ela já faz parte do Python por isso não foi preciso instalar\n",
    "\n",
    "import sqlite3"
   ]
  },
  {
   "cell_type": "code",
   "execution_count": 30,
   "id": "1e0de3e9",
   "metadata": {},
   "outputs": [],
   "source": [
    "# Criamos uma variável para armazenar o banco de dados chamado produtos.db\n",
    "produto = 'produtos.db'"
   ]
  },
  {
   "cell_type": "markdown",
   "id": "7ac873d5",
   "metadata": {},
   "source": [
    "# Criar tabelas"
   ]
  },
  {
   "cell_type": "code",
   "execution_count": 31,
   "id": "c8172830",
   "metadata": {},
   "outputs": [
    {
     "name": "stdout",
     "output_type": "stream",
     "text": [
      "Tabela Criada com Sucesso!\n"
     ]
    }
   ],
   "source": [
    "# Criamos uma tabela chmada Produtos que está armazenada na variável script_produtos\n",
    "# A tabela produtos tem os seguintes campos id, nome, preco, categoria e estoque\n",
    "# Após o nome da categoria adicionamos o tipo do dado, se é chave primária , autoincremento e\n",
    "# Se é obrigatório\n",
    "script_produtos = '''CREATE TABLE IF NOT EXISTS Produtos(\n",
    "                id INTEGER PRIMARY KEY AUTOINCREMENT,\n",
    "                nome TEXT NOT NULL,\n",
    "                preco REAL NOT NULL,\n",
    "                categoria TEXT NOT NULL,\n",
    "                estoque INTEGER NOT NULL\n",
    "                );'''\n",
    "\n",
    "try:\n",
    "    with sqlite3.connect(produto) as con:\n",
    "        # Criar um cursor\n",
    "        cur= con.cursor()\n",
    "\n",
    "        # Executar o script\n",
    "        cur.execute(script_produtos)\n",
    "\n",
    "        # Salvar as alterações no banco de dados \n",
    "        con.commit()\n",
    "        print('Tabela Criada com Sucesso!')\n",
    "except sqlite3.OperationaError as e:\n",
    "    print('Erro:', e)"
   ]
  },
  {
   "cell_type": "code",
   "execution_count": 32,
   "id": "764e0a7b",
   "metadata": {},
   "outputs": [
    {
     "name": "stdout",
     "output_type": "stream",
     "text": [
      "[('Produtos',), ('sqlite_sequence',)]\n"
     ]
    }
   ],
   "source": [
    "# Verificar se a tabela foi criada\n",
    "res= cur.execute('SELECT name FROM sqlite_master')\n",
    "print(res.fetchall()) # retorna uma linha do resultado obtido, tabela\n",
    "# resultado vem no formato de tupla"
   ]
  },
  {
   "cell_type": "markdown",
   "id": "474d8b75",
   "metadata": {},
   "source": [
    "# Consultar tabelas"
   ]
  },
  {
   "cell_type": "code",
   "execution_count": 33,
   "id": "6dffc192",
   "metadata": {},
   "outputs": [
    {
     "name": "stdout",
     "output_type": "stream",
     "text": [
      "[(1, 'Notebook', 3500.0, 'Eletrônicos', 10), (2, 'Smartphone', 2200.0, 'Eletrônicos', 15), (3, 'Geladeira', 4000.0, 'Eletrônicos', 5), (4, 'Camisetas', 59.9, 'Vestuário', 50), (5, 'Cafeteira', 320.0, 'Eletrõnicos', 8)]\n"
     ]
    }
   ],
   "source": [
    "sql = 'SELECT * FROM Produtos' # Criamos o comando de selecionar tudo \n",
    "\n",
    "try:\n",
    "    with sqlite3.connect(produto) as con:\n",
    "        #Criar um cursor\n",
    "        cur = con.cursor()\n",
    "        #Executar o script\n",
    "        cur.execute(sql)\n",
    "        res = cur.fetchall() # retorna uma lista de lista\n",
    "        print(res)\n",
    "except sqlite3.OperationalError as e:\n",
    "    print('Erro: ', e)"
   ]
  },
  {
   "cell_type": "markdown",
   "id": "c69fa4a0",
   "metadata": {},
   "source": [
    "# Inserir dados"
   ]
  },
  {
   "cell_type": "code",
   "execution_count": 34,
   "id": "6ec18ccc",
   "metadata": {},
   "outputs": [],
   "source": [
    "sql = 'INSERT INTO Produtos (nome,preco,categoria, estoque) VALUES(?,?,?,?)'\n",
    "\n",
    "try:\n",
    "    with sqlite3.connect(produto) as con:\n",
    "        cur = con.cursor()\n",
    "        cur.execute(sql,('Notebook Dell', 3500.00,'Eletrônicos', 15))\n",
    "        con.commit() # Para salvar as alterações no banco de dados\n",
    "except sqlite3.OperationalError as e:\n",
    "    print('Error:', e)"
   ]
  },
  {
   "cell_type": "markdown",
   "id": "b2d463d3",
   "metadata": {},
   "source": [
    "# Inserir vários dados "
   ]
  },
  {
   "cell_type": "code",
   "execution_count": 35,
   "id": "03de571b",
   "metadata": {},
   "outputs": [],
   "source": [
    "# Lista de produtos para inserir\n",
    "produtos =[\n",
    "    ('Notebook', 3500.00, 'Eletrônicos', 10),\n",
    "    ('Smartphone', 2200.00, 'Eletrônicos', 15),\n",
    "    ('Geladeira', 4000.00, 'Eletrônicos', 5),\n",
    "    ('Camisetas', 59.90, 'Vestuário', 50),\n",
    "    ('Cafeteira', 320.00, 'Eletrõnicos', 8)\n",
    "]\n",
    "\n",
    "try:\n",
    "    with sqlite3.connect(produto) as con:\n",
    "        cur = con.cursor()\n",
    "        cur.executemany('INSERT INTO Produtos (nome,preco,categoria, estoque) VALUES(?,?,?,?)',produtos)\n",
    "        con.commit() # Para salvar as alterações no banco de dados\n",
    "except sqlite3.OperationalError as e:\n",
    "    print('Error:', e)\n",
    "\n"
   ]
  },
  {
   "cell_type": "code",
   "execution_count": 39,
   "id": "458df58d",
   "metadata": {},
   "outputs": [
    {
     "data": {
      "text/plain": [
       "[('Notebook',),\n",
       " ('Smartphone',),\n",
       " ('Geladeira',),\n",
       " ('Camisetas',),\n",
       " ('Cafeteira',),\n",
       " ('Notebook Dell',),\n",
       " ('Notebook',),\n",
       " ('Smartphone',),\n",
       " ('Geladeira',),\n",
       " ('Camisetas',),\n",
       " ('Cafeteira',)]"
      ]
     },
     "execution_count": 39,
     "metadata": {},
     "output_type": "execute_result"
    }
   ],
   "source": [
    "# Para verificar se os dados foram inseridos corretamente\n",
    "res = cur.execute('SELECT nome  FROM produtos')\n",
    "res.fetchall()"
   ]
  },
  {
   "cell_type": "code",
   "execution_count": 43,
   "id": "a5a64444",
   "metadata": {},
   "outputs": [
    {
     "name": "stdout",
     "output_type": "stream",
     "text": [
      "('Cafeteira', 320.0)\n",
      "('Cafeteira', 320.0)\n",
      "('Camisetas', 59.9)\n",
      "('Camisetas', 59.9)\n",
      "('Geladeira', 4000.0)\n",
      "('Geladeira', 4000.0)\n",
      "('Notebook', 3700.0)\n",
      "('Notebook', 3500.0)\n",
      "('Notebook Dell', 3500.0)\n",
      "('Smartphone', 2200.0)\n",
      "('Smartphone', 2200.0)\n"
     ]
    }
   ],
   "source": [
    "#  Outra maneira para verificar se os dados foram inseridos\n",
    "for linha in cur.execute('SELECT nome, preco FROM Produtos ORDER BY nome'):\n",
    "    print(linha)"
   ]
  },
  {
   "cell_type": "markdown",
   "id": "32788313",
   "metadata": {},
   "source": [
    "# Atualizar um Registro"
   ]
  },
  {
   "cell_type": "code",
   "execution_count": 36,
   "id": "f60ed4f0",
   "metadata": {},
   "outputs": [],
   "source": [
    "sql = 'UPDATE Produtos SET  preco = ? WHERE id = ?'\n",
    "\n",
    "try:\n",
    "    with sqlite3.connect(produto) as con:\n",
    "        cur = con.cursor()\n",
    "        cur.execute(sql,(3700.00, 1))\n",
    "        con.commit() # Para salvar as alterações no banco de dados\n",
    "except sqlite3.OperationalError as e:\n",
    "    print('Error:', e)"
   ]
  },
  {
   "cell_type": "markdown",
   "id": "ce46e0a5",
   "metadata": {},
   "source": [
    "# Deletar registro"
   ]
  },
  {
   "cell_type": "code",
   "execution_count": 44,
   "id": "7d266c2f",
   "metadata": {},
   "outputs": [],
   "source": [
    "sql= 'DELETE FROM Produtos WHERE id = ?'\n",
    "\n",
    "try:\n",
    "    with sqlite3.connect(produto) as con:\n",
    "        cur = con.cursor()\n",
    "        cur.execute(sql,(1,))\n",
    "        con.commit() # Para salvar as alterações no banco de dados\n",
    "except sqlite3.OperationalError as e:\n",
    "    print('Error:', e)"
   ]
  },
  {
   "cell_type": "code",
   "execution_count": 45,
   "id": "a0a5a061",
   "metadata": {},
   "outputs": [],
   "source": [
    "# Fechar conexão. após concluir precisamos fechar a conexão com o banco de dados\n",
    "con.close()"
   ]
  }
 ],
 "metadata": {
  "kernelspec": {
   "display_name": "Python 3",
   "language": "python",
   "name": "python3"
  },
  "language_info": {
   "codemirror_mode": {
    "name": "ipython",
    "version": 3
   },
   "file_extension": ".py",
   "mimetype": "text/x-python",
   "name": "python",
   "nbconvert_exporter": "python",
   "pygments_lexer": "ipython3",
   "version": "3.13.2"
  }
 },
 "nbformat": 4,
 "nbformat_minor": 5
}
